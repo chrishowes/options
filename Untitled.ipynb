{
 "cells": [
  {
   "cell_type": "code",
   "execution_count": 12,
   "metadata": {},
   "outputs": [],
   "source": [
    "%matplotlib inline\n",
    "\n",
    "import matplotlib\n",
    "import numpy as np\n",
    "import matplotlib.pyplot as plt"
   ]
  },
  {
   "cell_type": "code",
   "execution_count": 13,
   "metadata": {},
   "outputs": [],
   "source": [
    "import wallstreet\n",
    "from wallstreet.blackandscholes import BlackandScholes\n",
    "from datetime import date, timedelta"
   ]
  },
  {
   "cell_type": "code",
   "execution_count": 25,
   "metadata": {},
   "outputs": [],
   "source": [
    "SECURITY_CACHE = {}"
   ]
  },
  {
   "cell_type": "code",
   "execution_count": 121,
   "metadata": {},
   "outputs": [],
   "source": [
    "class Stock:\n",
    "    def __init__(self, ask):\n",
    "        self.price = ask\n",
    "            \n",
    "    def __call__(self, price, quantity=1, is_buy=True):\n",
    "        if is_buy:\n",
    "            return quantity * (price - self.price)\n",
    "        else:\n",
    "            return quantity * (self.price - price)\n",
    "    \n",
    "class Put:\n",
    "    def __init__(self, bid, ask, strike):\n",
    "        self.bid = bid\n",
    "        self.ask = ask\n",
    "        self.strike = strike\n",
    "\n",
    "            \n",
    "    def __call__(self, price, is_buy=True, quantity=1):\n",
    "        if is_buy:\n",
    "            profit = quantity * -self.ask\n",
    "            if (self.strike - price) > 0:\n",
    "                profit += quantity * (self.strike - price)\n",
    "            return profit\n",
    "        else:\n",
    "            profit = quantity * self.bid\n",
    "            if (self.strike - price) > 0:\n",
    "                profit -= quantity * (self.strike - price)\n",
    "            return profit\n",
    "\n",
    "class Call:\n",
    "    def __init__(self, bid, ask, strike):\n",
    "        self.bid = bid\n",
    "        self.ask = ask\n",
    "        self.strike = strike\n",
    "        \n",
    "    def __call__(self, price, is_buy=True, quantity=1):\n",
    "        if is_buy:\n",
    "            profit = quantity * -self.bid\n",
    "            if (price - self.strike) > 0:\n",
    "                profit += quantity * (price - self.strike)\n",
    "            return profit\n",
    "        else:\n",
    "            profit = quantity * self.ask\n",
    "            if (price - self.strike) > 0:\n",
    "                profit -= quantity * (price - self.strike)\n",
    "            return profit\n",
    "        "
   ]
  },
  {
   "cell_type": "code",
   "execution_count": 139,
   "metadata": {},
   "outputs": [],
   "source": [
    "last_quote = None\n",
    "last_data = None\n",
    "\n",
    "class Strategy:\n",
    "    \n",
    "    def __init__(self, symbol):\n",
    "        global last_quote, last_data\n",
    "        if last_quote == symbol:\n",
    "            result = last_data\n",
    "        else:\n",
    "            result = requests.get(f\"https://query2.finance.yahoo.com/v7/finance/options/{symbol}\")\n",
    "            last_data = result\n",
    "            last_quote = symbol\n",
    "        data = result.json()['optionChain']['result'][0]\n",
    "        self.securities = {}\n",
    "        self.securities['stock'] = Stock(data['quote']['ask'])\n",
    "        self.securities['options'] = {}\n",
    "        \n",
    "        for d in data['options']:\n",
    "            print(d['expirationDate'])\n",
    "            self.securities['options'][d['expirationDate']] = {\n",
    "                'puts': {},\n",
    "                'calls': {}\n",
    "            }\n",
    "            for p in d['puts']:\n",
    "                self.securities['options'][d['expirationDate']]['puts'][p['contractSymbol']] = Put(p['bid'], p['ask'], p['strike'])\n",
    "                \n",
    "            for c in d['calls']:\n",
    "                self.securities['options'][d['expirationDate']]['puts'][p['contractSymbol']] = Call(c['bid'], c['ask'], c['strike'])"
   ]
  },
  {
   "cell_type": "code",
   "execution_count": 141,
   "metadata": {},
   "outputs": [
    {
     "name": "stdout",
     "output_type": "stream",
     "text": [
      "1584057600\n"
     ]
    },
    {
     "data": {
      "text/plain": [
       "<matplotlib.lines.Line2D at 0x7fe740a721c0>"
      ]
     },
     "execution_count": 141,
     "metadata": {},
     "output_type": "execute_result"
    },
    {
     "data": {
      "image/png": "[encoded data removed]",
      "text/plain": [
       "<Figure size 432x288 with 1 Axes>"
      ]
     },
     "metadata": {
      "needs_background": "light"
     },
     "output_type": "display_data"
    }
   ],
   "source": [
    "strat = Strategy(\"AAPL\")\n",
    "rng = range(int(s.price - 50), int(s.price + 50))\n",
    "xs = [x for x in rng]\n",
    "ys = [0 for x in rng]\n",
    "plt.plot(xs, ys)\n",
    "plt.axhline(0, color='k')\n",
    "plt.axvline(s.price, color='k')"
   ]
  },
  {
   "cell_type": "code",
   "execution_count": 153,
   "metadata": {},
   "outputs": [
    {
     "data": {
      "text/plain": [
       "{1584057600}"
      ]
     },
     "execution_count": 153,
     "metadata": {},
     "output_type": "execute_result"
    }
   ],
   "source": [
    "set([x['expiration'] for x in last_data.json()['optionChain']['result'][0]['options'][0]['calls']])"
   ]
  },
  {
   "cell_type": "code",
   "execution_count": 91,
   "metadata": {},
   "outputs": [],
   "source": [
    "result = requests.get(f\"https://query2.finance.yahoo.com/v7/finance/options/{stock}\")"
   ]
  },
  {
   "cell_type": "code",
   "execution_count": 100,
   "metadata": {},
   "outputs": [],
   "source": [
    "data = result.json()['optionChain']['result'][0]"
   ]
  },
  {
   "cell_type": "code",
   "execution_count": 155,
   "metadata": {},
   "outputs": [
    {
     "data": {
      "text/plain": [
       "58"
      ]
     },
     "execution_count": 155,
     "metadata": {},
     "output_type": "execute_result"
    }
   ],
   "source": [
    "len(data['options'][0]['puts'])"
   ]
  },
  {
   "cell_type": "code",
   "execution_count": null,
   "metadata": {},
   "outputs": [],
   "source": [
    "class Strategy"
   ]
  }
 ],
 "metadata": {
  "kernelspec": {
   "display_name": "Python 3",
   "language": "python",
   "name": "python3"
  },
  "language_info": {
   "codemirror_mode": {
    "name": "ipython",
    "version": 3
   },
   "file_extension": ".py",
   "mimetype": "text/x-python",
   "name": "python",
   "nbconvert_exporter": "python",
   "pygments_lexer": "ipython3",
   "version": "3.8.0"
  }
 },
 "nbformat": 4,
 "nbformat_minor": 4
}
